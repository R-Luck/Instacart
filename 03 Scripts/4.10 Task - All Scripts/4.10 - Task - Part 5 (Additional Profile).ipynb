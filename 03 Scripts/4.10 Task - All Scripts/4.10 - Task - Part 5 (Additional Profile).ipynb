{
 "cells": [
  {
   "cell_type": "markdown",
   "metadata": {},
   "source": [
    "# 4.10 Coding Etiquette & Excel Reporting"
   ]
  },
  {
   "cell_type": "markdown",
   "metadata": {},
   "source": [
    "## This script contains the following points:"
   ]
  },
  {
   "cell_type": "markdown",
   "metadata": {},
   "source": [
    "### 1. Import Libraries"
   ]
  },
  {
   "cell_type": "markdown",
   "metadata": {},
   "source": [
    "### 2. Import Data"
   ]
  },
  {
   "cell_type": "markdown",
   "metadata": {},
   "source": [
    "### 3. Optimise Data Types"
   ]
  },
  {
   "cell_type": "markdown",
   "metadata": {},
   "source": [
    "### 4. Create Customer Profile - Family "
   ]
  },
  {
   "cell_type": "markdown",
   "metadata": {},
   "source": [
    "### 5. Export Data"
   ]
  },
  {
   "cell_type": "markdown",
   "metadata": {},
   "source": [
    "### 6. Visualise Profile"
   ]
  },
  {
   "cell_type": "markdown",
   "metadata": {},
   "source": [
    "# 1. Import Libraries"
   ]
  },
  {
   "cell_type": "code",
   "execution_count": null,
   "metadata": {},
   "outputs": [],
   "source": [
    "import pandas as pd\n",
    "import numpy as np\n",
    "import os\n",
    "import matplotlib.pyplot as plt\n",
    "import seaborn as sns\n",
    "import scipy"
   ]
  },
  {
   "cell_type": "markdown",
   "metadata": {},
   "source": [
    "# 2. Import Data"
   ]
  },
  {
   "cell_type": "code",
   "execution_count": null,
   "metadata": {},
   "outputs": [],
   "source": [
    "# Creating path string to folder\n",
    "path = r'C:\\Users\\Admin\\Desktop\\Instacart Basket Analysis'"
   ]
  },
  {
   "cell_type": "code",
   "execution_count": null,
   "metadata": {},
   "outputs": [],
   "source": [
    "# Importing active_customer_sample df from csv\n",
    "active_customer = pd.read_csv(os.path.join(path, '02 Data', 'Prepared Data', 'active_customer_diet_profiles.csv')) "
   ]
  },
  {
   "cell_type": "code",
   "execution_count": null,
   "metadata": {},
   "outputs": [],
   "source": [
    "# Check df\n",
    "active_customer.shape"
   ]
  },
  {
   "cell_type": "code",
   "execution_count": null,
   "metadata": {},
   "outputs": [],
   "source": [
    "active_customer.info()"
   ]
  },
  {
   "cell_type": "code",
   "execution_count": null,
   "metadata": {},
   "outputs": [],
   "source": [
    "# drop unnecessary 'Unnamed: 0', 'Unnamed: 0.1', 'Purchasing Profile' column\n",
    "active_customer = active_customer.drop(columns = ['Unnamed: 0','Unnamed: 0.1','Purchasing Profile','_merge'])"
   ]
  },
  {
   "cell_type": "markdown",
   "metadata": {},
   "source": [
    "# 3. Optimise Data Types"
   ]
  },
  {
   "cell_type": "code",
   "execution_count": null,
   "metadata": {},
   "outputs": [],
   "source": [
    "# Change data type of order_id column to int16\n",
    "active_customer['order_id'] = active_customer['order_id'].astype('int16')"
   ]
  },
  {
   "cell_type": "code",
   "execution_count": null,
   "metadata": {},
   "outputs": [],
   "source": [
    "# Change data type of user_id column to int16\n",
    "active_customer['user_id'] = active_customer['user_id'].astype('int16')"
   ]
  },
  {
   "cell_type": "code",
   "execution_count": null,
   "metadata": {},
   "outputs": [],
   "source": [
    "# Change data type of order_number column to int8\n",
    "active_customer['order_number'] = active_customer['order_number'].astype('int8')"
   ]
  },
  {
   "cell_type": "code",
   "execution_count": null,
   "metadata": {},
   "outputs": [],
   "source": [
    "# Change data type of orders_day_of_week  column to int8\n",
    "active_customer['orders_day_of_week'] = active_customer['orders_day_of_week'].astype('int8')"
   ]
  },
  {
   "cell_type": "code",
   "execution_count": null,
   "metadata": {},
   "outputs": [],
   "source": [
    "# Change data type of hour_order_placed column to int8\n",
    "active_customer['hour_order_placed'] = active_customer['hour_order_placed'].astype('int8')"
   ]
  },
  {
   "cell_type": "code",
   "execution_count": null,
   "metadata": {},
   "outputs": [],
   "source": [
    "# Change data type of days_since_prior_order column to uint16\n",
    "active_customer['product_id'] = active_customer['product_id'].astype('uint16')"
   ]
  },
  {
   "cell_type": "code",
   "execution_count": null,
   "metadata": {},
   "outputs": [],
   "source": [
    "# Change data type of add_to_cart_order column to float16\n",
    "active_customer['add_to_cart_order'] = active_customer['add_to_cart_order'].astype('float16')"
   ]
  },
  {
   "cell_type": "code",
   "execution_count": null,
   "metadata": {},
   "outputs": [],
   "source": [
    "# Change data type of reordered column to int8\n",
    "active_customer['reordered'] = active_customer['reordered'].astype('int8')"
   ]
  },
  {
   "cell_type": "code",
   "execution_count": null,
   "metadata": {},
   "outputs": [],
   "source": [
    "# Change data type of aisle_id column to int8\n",
    "active_customer['aisle_id'] = active_customer['aisle_id'].astype('int8')"
   ]
  },
  {
   "cell_type": "code",
   "execution_count": null,
   "metadata": {},
   "outputs": [],
   "source": [
    "# Change data type of days_since_prior_order column to int8\n",
    "active_customer['department_id'] = active_customer['department_id'].astype('int8')"
   ]
  },
  {
   "cell_type": "code",
   "execution_count": null,
   "metadata": {},
   "outputs": [],
   "source": [
    "# Change data type of prices column to float16\n",
    "active_customer['prices'] = active_customer['prices'].astype('float16')"
   ]
  },
  {
   "cell_type": "code",
   "execution_count": null,
   "metadata": {},
   "outputs": [],
   "source": [
    "# Change data type of max_order column to uint8\n",
    "active_customer['max_order'] = active_customer['max_order'].astype('uint8')"
   ]
  },
  {
   "cell_type": "code",
   "execution_count": null,
   "metadata": {},
   "outputs": [],
   "source": [
    "# Change data type of mean_product_price column to float16\n",
    "active_customer['mean_product_price'] = active_customer['mean_product_price'].astype('float16')"
   ]
  },
  {
   "cell_type": "code",
   "execution_count": null,
   "metadata": {},
   "outputs": [],
   "source": [
    "# Change data type of median_days_since_prior_order column to float16\n",
    "active_customer['median_days_since_prior_order'] = active_customer['median_days_since_prior_order'].astype('float16')"
   ]
  },
  {
   "cell_type": "code",
   "execution_count": null,
   "metadata": {},
   "outputs": [],
   "source": [
    "# Change data type of orders_day_of_week column to int8\n",
    "active_customer['orders_day_of_week'] = active_customer['orders_day_of_week'].astype('int8')"
   ]
  },
  {
   "cell_type": "markdown",
   "metadata": {},
   "source": [
    "# 4. Create Customer Profile - Family "
   ]
  },
  {
   "cell_type": "code",
   "execution_count": null,
   "metadata": {},
   "outputs": [],
   "source": [
    "# Check values in 'customer_profile' column\n",
    "active_customer['customer_profile'].value_counts(dropna = False)"
   ]
  },
  {
   "cell_type": "code",
   "execution_count": null,
   "metadata": {},
   "outputs": [],
   "source": [
    "# Use loc() function to create customer profile flag based on family - 'Family'\n",
    "active_customer.loc[(active_customer['customer_profile'] == 'Middle Aged Married with Kids'), 'family_profile'] = 'Family'"
   ]
  },
  {
   "cell_type": "code",
   "execution_count": null,
   "metadata": {},
   "outputs": [],
   "source": [
    "# Use loc() function to create customer profile flag based on family - 'Family'\n",
    "active_customer.loc[(active_customer['customer_profile'] == 'Older Married with Kids'), 'family_profile'] = 'Family'"
   ]
  },
  {
   "cell_type": "code",
   "execution_count": null,
   "metadata": {},
   "outputs": [],
   "source": [
    "# Use loc() function to create customer profile flag based on family - 'Family'\n",
    "active_customer.loc[(active_customer['customer_profile'] == 'Young Married with Kids'), 'family_profile'] = 'Family'"
   ]
  },
  {
   "cell_type": "code",
   "execution_count": null,
   "metadata": {},
   "outputs": [],
   "source": [
    "# Use loc() function to create customer profile flag based on family - 'Family'\n",
    "active_customer.loc[(active_customer['customer_profile'] == 'Young Individual with Kids'), 'family_profile'] = 'Family'"
   ]
  },
  {
   "cell_type": "code",
   "execution_count": null,
   "metadata": {},
   "outputs": [],
   "source": [
    "# Use loc() function to create customer profile flag based on family - 'Individual'\n",
    "active_customer.loc[(active_customer['customer_profile'] == 'Middle Aged Individual without Kids'), 'family_profile'] = 'Individual'"
   ]
  },
  {
   "cell_type": "code",
   "execution_count": null,
   "metadata": {},
   "outputs": [],
   "source": [
    "# Use loc() function to create customer profile flag based on family - 'Individual'\n",
    "active_customer.loc[(active_customer['customer_profile'] == 'Older Individual without Kids'), 'family_profile'] = 'Individual'"
   ]
  },
  {
   "cell_type": "code",
   "execution_count": null,
   "metadata": {},
   "outputs": [],
   "source": [
    "# Use loc() function to create customer profile flag based on family - 'Individual'\n",
    "active_customer.loc[(active_customer['customer_profile'] == 'Young Individual without Kids'), 'family_profile'] = 'Individual'"
   ]
  },
  {
   "cell_type": "code",
   "execution_count": null,
   "metadata": {},
   "outputs": [],
   "source": [
    "# Check values in 'family_profile' column\n",
    "active_customer['family_profile'].value_counts(dropna = False)"
   ]
  },
  {
   "cell_type": "markdown",
   "metadata": {},
   "source": [
    "# 5. Export Data"
   ]
  },
  {
   "cell_type": "code",
   "execution_count": null,
   "metadata": {},
   "outputs": [],
   "source": [
    "active_customer.to_csv(os.path.join(path,'02 Data','Prepared Data','active_customer_full_profiles.csv'))"
   ]
  },
  {
   "cell_type": "markdown",
   "metadata": {},
   "source": [
    "# 6. Visualise Profile"
   ]
  },
  {
   "cell_type": "code",
   "execution_count": null,
   "metadata": {},
   "outputs": [],
   "source": [
    "# Create bar chart of 'income_profile'\n",
    "bar_family_profile = active_customer['family_profile'].value_counts().plot.bar()"
   ]
  },
  {
   "cell_type": "code",
   "execution_count": null,
   "metadata": {},
   "outputs": [],
   "source": [
    "# Export chart as image file\n",
    "bar_family_profile.figure.savefig(os.path.join(path, '04 Analysis','Visualisations','bar_family_profile.png'))"
   ]
  },
  {
   "cell_type": "code",
   "execution_count": null,
   "metadata": {},
   "outputs": [],
   "source": [
    "# Create crosstab between 'hour_order_placed' and 'family_profile'\n",
    "crosstab_family_hour = pd.crosstab(active_customer['hour_order_placed'],active_customer['family_profile'],dropna = False)"
   ]
  },
  {
   "cell_type": "code",
   "execution_count": null,
   "metadata": {},
   "outputs": [],
   "source": [
    "# Create stacked bar chart\n",
    "stacked_family_hour = crosstab_family_hour.plot.bar(stacked = True)\n",
    "plt.legend(title = 'Family Status')"
   ]
  },
  {
   "cell_type": "code",
   "execution_count": null,
   "metadata": {},
   "outputs": [],
   "source": [
    "# Export chart as image file\n",
    "stacked_family_hour.figure.savefig(os.path.join(path, '04 Analysis','Visualisations','stacked_family_hour.png'))"
   ]
  },
  {
   "cell_type": "code",
   "execution_count": null,
   "metadata": {},
   "outputs": [],
   "source": [
    "# Create crosstab between 'orders_day_of_week' and 'family_profile'\n",
    "crosstab_family_day = pd.crosstab(active_customer['orders_day_of_week'],active_customer['family_profile'],dropna = False)"
   ]
  },
  {
   "cell_type": "code",
   "execution_count": null,
   "metadata": {},
   "outputs": [],
   "source": [
    "# Create stacked bar chart\n",
    "stacked_family_day = crosstab_family_day.plot.bar(stacked = True)\n",
    "plt.legend(title = 'Family Status')\n",
    "\n",
    "# Label x axis\n",
    "values = ['Sat','Sun','Mon','Tue','Wed','Thur','Fri']\n",
    "x = [0,1,2,3,4,5,6]\n",
    "plt.xticks(x,values)"
   ]
  },
  {
   "cell_type": "code",
   "execution_count": null,
   "metadata": {},
   "outputs": [],
   "source": [
    "# Export chart as image file\n",
    "stacked_family_day.figure.savefig(os.path.join(path, '04 Analysis','Visualisations','stacked_family_day.png'))"
   ]
  },
  {
   "cell_type": "code",
   "execution_count": null,
   "metadata": {},
   "outputs": [],
   "source": []
  }
 ],
 "metadata": {
  "kernelspec": {
   "display_name": "Python 3",
   "language": "python",
   "name": "python3"
  },
  "language_info": {
   "codemirror_mode": {
    "name": "ipython",
    "version": 3
   },
   "file_extension": ".py",
   "mimetype": "text/x-python",
   "name": "python",
   "nbconvert_exporter": "python",
   "pygments_lexer": "ipython3",
   "version": "3.8.5"
  }
 },
 "nbformat": 4,
 "nbformat_minor": 4
}
