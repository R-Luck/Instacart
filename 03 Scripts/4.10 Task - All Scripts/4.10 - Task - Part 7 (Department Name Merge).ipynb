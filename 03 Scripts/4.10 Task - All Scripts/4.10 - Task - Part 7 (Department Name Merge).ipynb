{
 "cells": [
  {
   "cell_type": "markdown",
   "metadata": {},
   "source": [
    "# 4.10 Coding Etiquette & Excel Reporting"
   ]
  },
  {
   "cell_type": "markdown",
   "metadata": {},
   "source": [
    "## This script contains the following points:"
   ]
  },
  {
   "cell_type": "markdown",
   "metadata": {},
   "source": [
    "### 1. Import Libraries"
   ]
  },
  {
   "cell_type": "markdown",
   "metadata": {},
   "source": [
    "### 2. Import Data"
   ]
  },
  {
   "cell_type": "markdown",
   "metadata": {},
   "source": [
    "### 3. Data Visualisation"
   ]
  },
  {
   "cell_type": "markdown",
   "metadata": {},
   "source": [
    "### 4. Import Additional Data"
   ]
  },
  {
   "cell_type": "markdown",
   "metadata": {},
   "source": [
    "### 5. Export Data"
   ]
  },
  {
   "cell_type": "markdown",
   "metadata": {},
   "source": [
    "# 1. Import Libraries"
   ]
  },
  {
   "cell_type": "code",
   "execution_count": 1,
   "metadata": {},
   "outputs": [],
   "source": [
    "import pandas as pd\n",
    "import numpy as np\n",
    "import os\n",
    "import matplotlib.pyplot as plt\n",
    "import seaborn as sns\n",
    "import scipy"
   ]
  },
  {
   "cell_type": "markdown",
   "metadata": {},
   "source": [
    "# 2. Import Data"
   ]
  },
  {
   "cell_type": "code",
   "execution_count": 2,
   "metadata": {},
   "outputs": [],
   "source": [
    "# Creating path string to folder\n",
    "path = r'C:\\Users\\Admin\\Desktop\\Instacart Basket Analysis'"
   ]
  },
  {
   "cell_type": "code",
   "execution_count": 3,
   "metadata": {},
   "outputs": [],
   "source": [
    "# Importing df from csv\n",
    "active_customer = pd.read_csv(os.path.join(path, '02 Data', 'Prepared Data', 'active_customer_full_profiles.csv')) "
   ]
  },
  {
   "cell_type": "code",
   "execution_count": 4,
   "metadata": {},
   "outputs": [
    {
     "data": {
      "text/plain": [
       "(15329101, 35)"
      ]
     },
     "execution_count": 4,
     "metadata": {},
     "output_type": "execute_result"
    }
   ],
   "source": [
    "# Check shape of df\n",
    "active_customer.shape"
   ]
  },
  {
   "cell_type": "code",
   "execution_count": 6,
   "metadata": {},
   "outputs": [
    {
     "name": "stdout",
     "output_type": "stream",
     "text": [
      "<class 'pandas.core.frame.DataFrame'>\n",
      "RangeIndex: 15329101 entries, 0 to 15329100\n",
      "Data columns (total 35 columns):\n",
      " #   Column                         Dtype  \n",
      "---  ------                         -----  \n",
      " 0   Unnamed: 0                     int64  \n",
      " 1   order_id                       int64  \n",
      " 2   user_id                        int64  \n",
      " 3   order_number                   int64  \n",
      " 4   orders_day_of_week             int64  \n",
      " 5   hour_order_placed              int64  \n",
      " 6   days_since_prior_order         float64\n",
      " 7   product_id                     int64  \n",
      " 8   add_to_cart_order              float64\n",
      " 9   reordered                      int64  \n",
      " 10  product_name                   object \n",
      " 11  aisle_id                       int64  \n",
      " 12  department_id                  int64  \n",
      " 13  prices                         float64\n",
      " 14  busiest_days                   object \n",
      " 15  busiest_period_of_day          object \n",
      " 16  max_order                      int64  \n",
      " 17  loyalty_flag                   object \n",
      " 18  mean_product_price             float64\n",
      " 19  spending_flag                  object \n",
      " 20  median_days_since_prior_order  float64\n",
      " 21  frequency_flag                 object \n",
      " 22  Gender                         object \n",
      " 23  State                          object \n",
      " 24  Age                            int64  \n",
      " 25  date_joined                    object \n",
      " 26  no_of_dependents               int64  \n",
      " 27  fam_status                     object \n",
      " 28  income                         int64  \n",
      " 29  Region                         object \n",
      " 30  low_activity_flag              object \n",
      " 31  customer_profile               object \n",
      " 32  income_profile                 object \n",
      " 33  diet_profile                   object \n",
      " 34  family_profile                 object \n",
      "dtypes: float64(5), int64(14), object(16)\n",
      "memory usage: 4.0+ GB\n"
     ]
    }
   ],
   "source": [
    "# Check info of df\n",
    "active_customer.info()"
   ]
  },
  {
   "cell_type": "markdown",
   "metadata": {},
   "source": [
    "# 3. Data Visualisation"
   ]
  },
  {
   "cell_type": "code",
   "execution_count": 7,
   "metadata": {},
   "outputs": [
    {
     "data": {
      "text/plain": [
       "([<matplotlib.axis.XTick at 0x29f57f0ec70>,\n",
       "  <matplotlib.axis.XTick at 0x29f57f0ec40>,\n",
       "  <matplotlib.axis.XTick at 0x29f585cd130>,\n",
       "  <matplotlib.axis.XTick at 0x29faa8d5a00>,\n",
       "  <matplotlib.axis.XTick at 0x29faa8d5f10>,\n",
       "  <matplotlib.axis.XTick at 0x29fb6b29460>,\n",
       "  <matplotlib.axis.XTick at 0x29fb6b29970>],\n",
       " [Text(0, 0, 'Sat'),\n",
       "  Text(1, 0, 'Sun'),\n",
       "  Text(2, 0, 'Mon'),\n",
       "  Text(3, 0, 'Tue'),\n",
       "  Text(4, 0, 'Wed'),\n",
       "  Text(5, 0, 'Thur'),\n",
       "  Text(6, 0, 'Fri')])"
      ]
     },
     "execution_count": 7,
     "metadata": {},
     "output_type": "execute_result"
    },
    {
     "data": {
      "image/png": "[encoded data removed]",
      "text/plain": [
       "<Figure size 432x288 with 1 Axes>"
      ]
     },
     "metadata": {
      "needs_background": "light"
     },
     "output_type": "display_data"
    }
   ],
   "source": [
    "# Create bar chart to show day of week with most orders, from exercise 4.9, with labelled axis\n",
    "bar = active_customer['orders_day_of_week'].value_counts().plot.bar(color = ['purple','red','pink','orange','yellow','green','blue'])\n",
    "\n",
    "# Label x axis\n",
    "values = ['Sat','Sun','Mon','Tue','Wed','Thur','Fri']\n",
    "x = [0,1,2,3,4,5,6]\n",
    "plt.xticks(x,values)"
   ]
  },
  {
   "cell_type": "code",
   "execution_count": 8,
   "metadata": {},
   "outputs": [],
   "source": [
    "# Export chart as image file\n",
    "bar.figure.savefig(os.path.join(path, '04 Analysis','Visualisations','bar_orders_dow_2.png'))"
   ]
  },
  {
   "cell_type": "markdown",
   "metadata": {},
   "source": [
    "# 4. Import Additional Data"
   ]
  },
  {
   "cell_type": "code",
   "execution_count": 16,
   "metadata": {},
   "outputs": [],
   "source": [
    "# Importing df from csv\n",
    "departments = pd.read_csv(os.path.join(path, '02 Data', 'Prepared Data', 'departments_wrangled.csv')) "
   ]
  },
  {
   "cell_type": "code",
   "execution_count": 20,
   "metadata": {},
   "outputs": [
    {
     "data": {
      "text/html": [
       "<div>\n",
       "<style scoped>\n",
       "    .dataframe tbody tr th:only-of-type {\n",
       "        vertical-align: middle;\n",
       "    }\n",
       "\n",
       "    .dataframe tbody tr th {\n",
       "        vertical-align: top;\n",
       "    }\n",
       "\n",
       "    .dataframe thead th {\n",
       "        text-align: right;\n",
       "    }\n",
       "</style>\n",
       "<table border=\"1\" class=\"dataframe\">\n",
       "  <thead>\n",
       "    <tr style=\"text-align: right;\">\n",
       "      <th></th>\n",
       "      <th>department_id</th>\n",
       "      <th>department</th>\n",
       "    </tr>\n",
       "  </thead>\n",
       "  <tbody>\n",
       "    <tr>\n",
       "      <th>0</th>\n",
       "      <td>1</td>\n",
       "      <td>frozen</td>\n",
       "    </tr>\n",
       "    <tr>\n",
       "      <th>1</th>\n",
       "      <td>2</td>\n",
       "      <td>other</td>\n",
       "    </tr>\n",
       "    <tr>\n",
       "      <th>2</th>\n",
       "      <td>3</td>\n",
       "      <td>bakery</td>\n",
       "    </tr>\n",
       "    <tr>\n",
       "      <th>3</th>\n",
       "      <td>4</td>\n",
       "      <td>produce</td>\n",
       "    </tr>\n",
       "    <tr>\n",
       "      <th>4</th>\n",
       "      <td>5</td>\n",
       "      <td>alcohol</td>\n",
       "    </tr>\n",
       "  </tbody>\n",
       "</table>\n",
       "</div>"
      ],
      "text/plain": [
       "   department_id department\n",
       "0              1     frozen\n",
       "1              2      other\n",
       "2              3     bakery\n",
       "3              4    produce\n",
       "4              5    alcohol"
      ]
     },
     "execution_count": 20,
     "metadata": {},
     "output_type": "execute_result"
    }
   ],
   "source": [
    "# Check df\n",
    "departments.head()"
   ]
  },
  {
   "cell_type": "code",
   "execution_count": 21,
   "metadata": {},
   "outputs": [
    {
     "name": "stdout",
     "output_type": "stream",
     "text": [
      "<class 'pandas.core.frame.DataFrame'>\n",
      "RangeIndex: 21 entries, 0 to 20\n",
      "Data columns (total 2 columns):\n",
      " #   Column         Non-Null Count  Dtype \n",
      "---  ------         --------------  ----- \n",
      " 0   department_id  21 non-null     int64 \n",
      " 1   department     21 non-null     object\n",
      "dtypes: int64(1), object(1)\n",
      "memory usage: 464.0+ bytes\n"
     ]
    }
   ],
   "source": [
    "departments.info()"
   ]
  },
  {
   "cell_type": "code",
   "execution_count": 22,
   "metadata": {},
   "outputs": [],
   "source": [
    "# Merge departments with active customer on 'department_id'\n",
    "active_customer_dep = active_customer.merge(departments, on = ['department_id'])"
   ]
  },
  {
   "cell_type": "code",
   "execution_count": 23,
   "metadata": {},
   "outputs": [
    {
     "data": {
      "text/html": [
       "<div>\n",
       "<style scoped>\n",
       "    .dataframe tbody tr th:only-of-type {\n",
       "        vertical-align: middle;\n",
       "    }\n",
       "\n",
       "    .dataframe tbody tr th {\n",
       "        vertical-align: top;\n",
       "    }\n",
       "\n",
       "    .dataframe thead th {\n",
       "        text-align: right;\n",
       "    }\n",
       "</style>\n",
       "<table border=\"1\" class=\"dataframe\">\n",
       "  <thead>\n",
       "    <tr style=\"text-align: right;\">\n",
       "      <th></th>\n",
       "      <th>Unnamed: 0</th>\n",
       "      <th>order_id</th>\n",
       "      <th>user_id</th>\n",
       "      <th>order_number</th>\n",
       "      <th>orders_day_of_week</th>\n",
       "      <th>hour_order_placed</th>\n",
       "      <th>days_since_prior_order</th>\n",
       "      <th>product_id</th>\n",
       "      <th>add_to_cart_order</th>\n",
       "      <th>reordered</th>\n",
       "      <th>...</th>\n",
       "      <th>no_of_dependents</th>\n",
       "      <th>fam_status</th>\n",
       "      <th>income</th>\n",
       "      <th>Region</th>\n",
       "      <th>low_activity_flag</th>\n",
       "      <th>customer_profile</th>\n",
       "      <th>income_profile</th>\n",
       "      <th>diet_profile</th>\n",
       "      <th>family_profile</th>\n",
       "      <th>department</th>\n",
       "    </tr>\n",
       "  </thead>\n",
       "  <tbody>\n",
       "    <tr>\n",
       "      <th>0</th>\n",
       "      <td>0</td>\n",
       "      <td>-16575</td>\n",
       "      <td>1</td>\n",
       "      <td>1</td>\n",
       "      <td>2</td>\n",
       "      <td>8</td>\n",
       "      <td>NaN</td>\n",
       "      <td>196</td>\n",
       "      <td>1.0</td>\n",
       "      <td>0</td>\n",
       "      <td>...</td>\n",
       "      <td>3</td>\n",
       "      <td>married</td>\n",
       "      <td>40423</td>\n",
       "      <td>South</td>\n",
       "      <td>Active customer</td>\n",
       "      <td>Young Married with Kids</td>\n",
       "      <td>Lower income</td>\n",
       "      <td>Vegetarian</td>\n",
       "      <td>Family</td>\n",
       "      <td>beverages</td>\n",
       "    </tr>\n",
       "    <tr>\n",
       "      <th>1</th>\n",
       "      <td>1</td>\n",
       "      <td>-26037</td>\n",
       "      <td>1</td>\n",
       "      <td>2</td>\n",
       "      <td>3</td>\n",
       "      <td>7</td>\n",
       "      <td>15.0</td>\n",
       "      <td>196</td>\n",
       "      <td>1.0</td>\n",
       "      <td>1</td>\n",
       "      <td>...</td>\n",
       "      <td>3</td>\n",
       "      <td>married</td>\n",
       "      <td>40423</td>\n",
       "      <td>South</td>\n",
       "      <td>Active customer</td>\n",
       "      <td>Young Married with Kids</td>\n",
       "      <td>Lower income</td>\n",
       "      <td>Vegetarian</td>\n",
       "      <td>Family</td>\n",
       "      <td>beverages</td>\n",
       "    </tr>\n",
       "    <tr>\n",
       "      <th>2</th>\n",
       "      <td>2</td>\n",
       "      <td>14995</td>\n",
       "      <td>1</td>\n",
       "      <td>3</td>\n",
       "      <td>3</td>\n",
       "      <td>12</td>\n",
       "      <td>21.0</td>\n",
       "      <td>196</td>\n",
       "      <td>1.0</td>\n",
       "      <td>1</td>\n",
       "      <td>...</td>\n",
       "      <td>3</td>\n",
       "      <td>married</td>\n",
       "      <td>40423</td>\n",
       "      <td>South</td>\n",
       "      <td>Active customer</td>\n",
       "      <td>Young Married with Kids</td>\n",
       "      <td>Lower income</td>\n",
       "      <td>Vegetarian</td>\n",
       "      <td>Family</td>\n",
       "      <td>beverages</td>\n",
       "    </tr>\n",
       "    <tr>\n",
       "      <th>3</th>\n",
       "      <td>3</td>\n",
       "      <td>26512</td>\n",
       "      <td>1</td>\n",
       "      <td>4</td>\n",
       "      <td>4</td>\n",
       "      <td>7</td>\n",
       "      <td>29.0</td>\n",
       "      <td>196</td>\n",
       "      <td>1.0</td>\n",
       "      <td>1</td>\n",
       "      <td>...</td>\n",
       "      <td>3</td>\n",
       "      <td>married</td>\n",
       "      <td>40423</td>\n",
       "      <td>South</td>\n",
       "      <td>Active customer</td>\n",
       "      <td>Young Married with Kids</td>\n",
       "      <td>Lower income</td>\n",
       "      <td>Vegetarian</td>\n",
       "      <td>Family</td>\n",
       "      <td>beverages</td>\n",
       "    </tr>\n",
       "    <tr>\n",
       "      <th>4</th>\n",
       "      <td>4</td>\n",
       "      <td>-27218</td>\n",
       "      <td>1</td>\n",
       "      <td>5</td>\n",
       "      <td>4</td>\n",
       "      <td>15</td>\n",
       "      <td>28.0</td>\n",
       "      <td>196</td>\n",
       "      <td>1.0</td>\n",
       "      <td>1</td>\n",
       "      <td>...</td>\n",
       "      <td>3</td>\n",
       "      <td>married</td>\n",
       "      <td>40423</td>\n",
       "      <td>South</td>\n",
       "      <td>Active customer</td>\n",
       "      <td>Young Married with Kids</td>\n",
       "      <td>Lower income</td>\n",
       "      <td>Vegetarian</td>\n",
       "      <td>Family</td>\n",
       "      <td>beverages</td>\n",
       "    </tr>\n",
       "  </tbody>\n",
       "</table>\n",
       "<p>5 rows × 36 columns</p>\n",
       "</div>"
      ],
      "text/plain": [
       "   Unnamed: 0  order_id  user_id  order_number  orders_day_of_week  \\\n",
       "0           0    -16575        1             1                   2   \n",
       "1           1    -26037        1             2                   3   \n",
       "2           2     14995        1             3                   3   \n",
       "3           3     26512        1             4                   4   \n",
       "4           4    -27218        1             5                   4   \n",
       "\n",
       "   hour_order_placed  days_since_prior_order  product_id  add_to_cart_order  \\\n",
       "0                  8                     NaN         196                1.0   \n",
       "1                  7                    15.0         196                1.0   \n",
       "2                 12                    21.0         196                1.0   \n",
       "3                  7                    29.0         196                1.0   \n",
       "4                 15                    28.0         196                1.0   \n",
       "\n",
       "   reordered  ... no_of_dependents  fam_status  income  Region  \\\n",
       "0          0  ...                3     married   40423   South   \n",
       "1          1  ...                3     married   40423   South   \n",
       "2          1  ...                3     married   40423   South   \n",
       "3          1  ...                3     married   40423   South   \n",
       "4          1  ...                3     married   40423   South   \n",
       "\n",
       "  low_activity_flag         customer_profile  income_profile diet_profile  \\\n",
       "0   Active customer  Young Married with Kids    Lower income   Vegetarian   \n",
       "1   Active customer  Young Married with Kids    Lower income   Vegetarian   \n",
       "2   Active customer  Young Married with Kids    Lower income   Vegetarian   \n",
       "3   Active customer  Young Married with Kids    Lower income   Vegetarian   \n",
       "4   Active customer  Young Married with Kids    Lower income   Vegetarian   \n",
       "\n",
       "   family_profile department  \n",
       "0          Family  beverages  \n",
       "1          Family  beverages  \n",
       "2          Family  beverages  \n",
       "3          Family  beverages  \n",
       "4          Family  beverages  \n",
       "\n",
       "[5 rows x 36 columns]"
      ]
     },
     "execution_count": 23,
     "metadata": {},
     "output_type": "execute_result"
    }
   ],
   "source": [
    "active_customer_dep.head()"
   ]
  },
  {
   "cell_type": "code",
   "execution_count": 25,
   "metadata": {},
   "outputs": [
    {
     "data": {
      "text/plain": [
       "(15329101, 36)"
      ]
     },
     "execution_count": 25,
     "metadata": {},
     "output_type": "execute_result"
    }
   ],
   "source": [
    "active_customer_dep.shape"
   ]
  },
  {
   "cell_type": "markdown",
   "metadata": {},
   "source": [
    "# 5. Export Data"
   ]
  },
  {
   "cell_type": "code",
   "execution_count": 26,
   "metadata": {},
   "outputs": [],
   "source": [
    "active_customer_dep.to_csv(os.path.join(path,'02 Data','Prepared Data','active_customer_full_profiles_dep.csv'))"
   ]
  },
  {
   "cell_type": "code",
   "execution_count": null,
   "metadata": {},
   "outputs": [],
   "source": []
  }
 ],
 "metadata": {
  "kernelspec": {
   "display_name": "Python 3",
   "language": "python",
   "name": "python3"
  },
  "language_info": {
   "codemirror_mode": {
    "name": "ipython",
    "version": 3
   },
   "file_extension": ".py",
   "mimetype": "text/x-python",
   "name": "python",
   "nbconvert_exporter": "python",
   "pygments_lexer": "ipython3",
   "version": "3.8.5"
  }
 },
 "nbformat": 4,
 "nbformat_minor": 4
}
