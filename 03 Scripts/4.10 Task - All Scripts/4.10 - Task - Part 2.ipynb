{
 "cells": [
  {
   "cell_type": "markdown",
   "metadata": {},
   "source": [
    "# 4.10 Coding Etiquette & Excel Reporting"
   ]
  },
  {
   "cell_type": "markdown",
   "metadata": {},
   "source": [
    "## This script contains the following points:"
   ]
  },
  {
   "cell_type": "markdown",
   "metadata": {},
   "source": [
    "### 1. Import Libraries"
   ]
  },
  {
   "cell_type": "markdown",
   "metadata": {},
   "source": [
    "### 2. Import Data"
   ]
  },
  {
   "cell_type": "markdown",
   "metadata": {},
   "source": [
    "### 3. Create Customer Profiles"
   ]
  },
  {
   "cell_type": "markdown",
   "metadata": {},
   "source": [
    "#### 3.1 Create Demographic Profile - age, family status and number of dependents"
   ]
  },
  {
   "cell_type": "markdown",
   "metadata": {},
   "source": [
    "#### 3.2 Create Diet/Purchasing Profile - based on 'department_id'"
   ]
  },
  {
   "cell_type": "markdown",
   "metadata": {},
   "source": [
    "#### 3.3 Create Income Profile - based on 'income'"
   ]
  },
  {
   "cell_type": "markdown",
   "metadata": {},
   "source": [
    "### 4. Optimise Data Types"
   ]
  },
  {
   "cell_type": "markdown",
   "metadata": {},
   "source": [
    "### 5. Export Data"
   ]
  },
  {
   "cell_type": "markdown",
   "metadata": {},
   "source": [
    "# 1. Import Libraries"
   ]
  },
  {
   "cell_type": "code",
   "execution_count": 1,
   "metadata": {},
   "outputs": [],
   "source": [
    "import pandas as pd\n",
    "import numpy as np\n",
    "import os\n",
    "import matplotlib.pyplot as plt\n",
    "import seaborn as sns\n",
    "import scipy\n"
   ]
  },
  {
   "cell_type": "markdown",
   "metadata": {},
   "source": [
    "# 2. Import Data"
   ]
  },
  {
   "cell_type": "code",
   "execution_count": 2,
   "metadata": {},
   "outputs": [],
   "source": [
    "# Creating path string to folder\n",
    "path = r'C:\\Users\\Admin\\Desktop\\Instacart Basket Analysis'"
   ]
  },
  {
   "cell_type": "code",
   "execution_count": 3,
   "metadata": {},
   "outputs": [],
   "source": [
    "# Importing active_customer_sample df from csv\n",
    "active_customer = pd.read_csv(os.path.join(path, '02 Data', 'Prepared Data', 'active_customer_sample.csv')) "
   ]
  },
  {
   "cell_type": "code",
   "execution_count": 4,
   "metadata": {},
   "outputs": [
    {
     "data": {
      "text/plain": [
       "(15329101, 31)"
      ]
     },
     "execution_count": 4,
     "metadata": {},
     "output_type": "execute_result"
    }
   ],
   "source": [
    "# check shape of df\n",
    "active_customer.shape"
   ]
  },
  {
   "cell_type": "code",
   "execution_count": 5,
   "metadata": {},
   "outputs": [
    {
     "data": {
      "text/html": [
       "<div>\n",
       "<style scoped>\n",
       "    .dataframe tbody tr th:only-of-type {\n",
       "        vertical-align: middle;\n",
       "    }\n",
       "\n",
       "    .dataframe tbody tr th {\n",
       "        vertical-align: top;\n",
       "    }\n",
       "\n",
       "    .dataframe thead th {\n",
       "        text-align: right;\n",
       "    }\n",
       "</style>\n",
       "<table border=\"1\" class=\"dataframe\">\n",
       "  <thead>\n",
       "    <tr style=\"text-align: right;\">\n",
       "      <th></th>\n",
       "      <th>Unnamed: 0</th>\n",
       "      <th>order_id</th>\n",
       "      <th>user_id</th>\n",
       "      <th>order_number</th>\n",
       "      <th>orders_day_of_week</th>\n",
       "      <th>hour_order_placed</th>\n",
       "      <th>days_since_prior_order</th>\n",
       "      <th>product_id</th>\n",
       "      <th>add_to_cart_order</th>\n",
       "      <th>reordered</th>\n",
       "      <th>...</th>\n",
       "      <th>frequency_flag</th>\n",
       "      <th>Gender</th>\n",
       "      <th>State</th>\n",
       "      <th>Age</th>\n",
       "      <th>date_joined</th>\n",
       "      <th>no_of_dependents</th>\n",
       "      <th>fam_status</th>\n",
       "      <th>income</th>\n",
       "      <th>Region</th>\n",
       "      <th>low_activity_flag</th>\n",
       "    </tr>\n",
       "  </thead>\n",
       "  <tbody>\n",
       "    <tr>\n",
       "      <th>0</th>\n",
       "      <td>0</td>\n",
       "      <td>2539329</td>\n",
       "      <td>1</td>\n",
       "      <td>1</td>\n",
       "      <td>2</td>\n",
       "      <td>8</td>\n",
       "      <td>NaN</td>\n",
       "      <td>196</td>\n",
       "      <td>1.0</td>\n",
       "      <td>0</td>\n",
       "      <td>...</td>\n",
       "      <td>Non-frequent customer</td>\n",
       "      <td>Female</td>\n",
       "      <td>Alabama</td>\n",
       "      <td>31</td>\n",
       "      <td>2/17/2019</td>\n",
       "      <td>3</td>\n",
       "      <td>married</td>\n",
       "      <td>40423</td>\n",
       "      <td>South</td>\n",
       "      <td>Active customer</td>\n",
       "    </tr>\n",
       "    <tr>\n",
       "      <th>1</th>\n",
       "      <td>1</td>\n",
       "      <td>2398795</td>\n",
       "      <td>1</td>\n",
       "      <td>2</td>\n",
       "      <td>3</td>\n",
       "      <td>7</td>\n",
       "      <td>15.0</td>\n",
       "      <td>196</td>\n",
       "      <td>1.0</td>\n",
       "      <td>1</td>\n",
       "      <td>...</td>\n",
       "      <td>Non-frequent customer</td>\n",
       "      <td>Female</td>\n",
       "      <td>Alabama</td>\n",
       "      <td>31</td>\n",
       "      <td>2/17/2019</td>\n",
       "      <td>3</td>\n",
       "      <td>married</td>\n",
       "      <td>40423</td>\n",
       "      <td>South</td>\n",
       "      <td>Active customer</td>\n",
       "    </tr>\n",
       "    <tr>\n",
       "      <th>2</th>\n",
       "      <td>2</td>\n",
       "      <td>473747</td>\n",
       "      <td>1</td>\n",
       "      <td>3</td>\n",
       "      <td>3</td>\n",
       "      <td>12</td>\n",
       "      <td>21.0</td>\n",
       "      <td>196</td>\n",
       "      <td>1.0</td>\n",
       "      <td>1</td>\n",
       "      <td>...</td>\n",
       "      <td>Non-frequent customer</td>\n",
       "      <td>Female</td>\n",
       "      <td>Alabama</td>\n",
       "      <td>31</td>\n",
       "      <td>2/17/2019</td>\n",
       "      <td>3</td>\n",
       "      <td>married</td>\n",
       "      <td>40423</td>\n",
       "      <td>South</td>\n",
       "      <td>Active customer</td>\n",
       "    </tr>\n",
       "    <tr>\n",
       "      <th>3</th>\n",
       "      <td>3</td>\n",
       "      <td>2254736</td>\n",
       "      <td>1</td>\n",
       "      <td>4</td>\n",
       "      <td>4</td>\n",
       "      <td>7</td>\n",
       "      <td>29.0</td>\n",
       "      <td>196</td>\n",
       "      <td>1.0</td>\n",
       "      <td>1</td>\n",
       "      <td>...</td>\n",
       "      <td>Non-frequent customer</td>\n",
       "      <td>Female</td>\n",
       "      <td>Alabama</td>\n",
       "      <td>31</td>\n",
       "      <td>2/17/2019</td>\n",
       "      <td>3</td>\n",
       "      <td>married</td>\n",
       "      <td>40423</td>\n",
       "      <td>South</td>\n",
       "      <td>Active customer</td>\n",
       "    </tr>\n",
       "    <tr>\n",
       "      <th>4</th>\n",
       "      <td>4</td>\n",
       "      <td>431534</td>\n",
       "      <td>1</td>\n",
       "      <td>5</td>\n",
       "      <td>4</td>\n",
       "      <td>15</td>\n",
       "      <td>28.0</td>\n",
       "      <td>196</td>\n",
       "      <td>1.0</td>\n",
       "      <td>1</td>\n",
       "      <td>...</td>\n",
       "      <td>Non-frequent customer</td>\n",
       "      <td>Female</td>\n",
       "      <td>Alabama</td>\n",
       "      <td>31</td>\n",
       "      <td>2/17/2019</td>\n",
       "      <td>3</td>\n",
       "      <td>married</td>\n",
       "      <td>40423</td>\n",
       "      <td>South</td>\n",
       "      <td>Active customer</td>\n",
       "    </tr>\n",
       "  </tbody>\n",
       "</table>\n",
       "<p>5 rows × 31 columns</p>\n",
       "</div>"
      ],
      "text/plain": [
       "   Unnamed: 0  order_id  user_id  order_number  orders_day_of_week  \\\n",
       "0           0   2539329        1             1                   2   \n",
       "1           1   2398795        1             2                   3   \n",
       "2           2    473747        1             3                   3   \n",
       "3           3   2254736        1             4                   4   \n",
       "4           4    431534        1             5                   4   \n",
       "\n",
       "   hour_order_placed  days_since_prior_order  product_id  add_to_cart_order  \\\n",
       "0                  8                     NaN         196                1.0   \n",
       "1                  7                    15.0         196                1.0   \n",
       "2                 12                    21.0         196                1.0   \n",
       "3                  7                    29.0         196                1.0   \n",
       "4                 15                    28.0         196                1.0   \n",
       "\n",
       "   reordered  ...         frequency_flag  Gender    State  Age date_joined  \\\n",
       "0          0  ...  Non-frequent customer  Female  Alabama   31   2/17/2019   \n",
       "1          1  ...  Non-frequent customer  Female  Alabama   31   2/17/2019   \n",
       "2          1  ...  Non-frequent customer  Female  Alabama   31   2/17/2019   \n",
       "3          1  ...  Non-frequent customer  Female  Alabama   31   2/17/2019   \n",
       "4          1  ...  Non-frequent customer  Female  Alabama   31   2/17/2019   \n",
       "\n",
       "  no_of_dependents  fam_status income  Region low_activity_flag  \n",
       "0                3     married  40423   South   Active customer  \n",
       "1                3     married  40423   South   Active customer  \n",
       "2                3     married  40423   South   Active customer  \n",
       "3                3     married  40423   South   Active customer  \n",
       "4                3     married  40423   South   Active customer  \n",
       "\n",
       "[5 rows x 31 columns]"
      ]
     },
     "execution_count": 5,
     "metadata": {},
     "output_type": "execute_result"
    }
   ],
   "source": [
    "# Check head of df\n",
    "active_customer.head()"
   ]
  },
  {
   "cell_type": "code",
   "execution_count": 6,
   "metadata": {},
   "outputs": [
    {
     "data": {
      "text/plain": [
       "Index(['Unnamed: 0', 'order_id', 'user_id', 'order_number',\n",
       "       'orders_day_of_week', 'hour_order_placed', 'days_since_prior_order',\n",
       "       'product_id', 'add_to_cart_order', 'reordered', 'product_name',\n",
       "       'aisle_id', 'department_id', 'prices', 'busiest_days',\n",
       "       'busiest_period_of_day', 'max_order', 'loyalty_flag',\n",
       "       'mean_product_price', 'spending_flag', 'median_days_since_prior_order',\n",
       "       'frequency_flag', 'Gender', 'State', 'Age', 'date_joined',\n",
       "       'no_of_dependents', 'fam_status', 'income', 'Region',\n",
       "       'low_activity_flag'],\n",
       "      dtype='object')"
      ]
     },
     "execution_count": 6,
     "metadata": {},
     "output_type": "execute_result"
    }
   ],
   "source": [
    "# Check columns\n",
    "active_customer.columns"
   ]
  },
  {
   "cell_type": "code",
   "execution_count": 7,
   "metadata": {},
   "outputs": [],
   "source": [
    "# drop 'Unnamed: 0' column\n",
    "active_customer = active_customer.drop(columns = 'Unnamed: 0')"
   ]
  },
  {
   "cell_type": "markdown",
   "metadata": {},
   "source": [
    "# 3. Create Customer Profiles"
   ]
  },
  {
   "cell_type": "code",
   "execution_count": 8,
   "metadata": {},
   "outputs": [
    {
     "data": {
      "text/plain": [
       "married                             10762710\n",
       "single                               2526935\n",
       "divorced/widowed                     1309891\n",
       "living with parents and siblings      729565\n",
       "Name: fam_status, dtype: int64"
      ]
     },
     "execution_count": 8,
     "metadata": {},
     "output_type": "execute_result"
    }
   ],
   "source": [
    "## Explore column values to inform customer profiles\n",
    "# Frequency check of 'fam status'\n",
    "active_customer['fam_status'].value_counts(dropna = False)"
   ]
  },
  {
   "cell_type": "code",
   "execution_count": 9,
   "metadata": {},
   "outputs": [
    {
     "data": {
      "text/plain": [
       "3    3851783\n",
       "0    3836826\n",
       "2    3825575\n",
       "1    3814917\n",
       "Name: no_of_dependents, dtype: int64"
      ]
     },
     "execution_count": 9,
     "metadata": {},
     "output_type": "execute_result"
    }
   ],
   "source": [
    "# Frequency check of 'no_of_dependents'\n",
    "active_customer['no_of_dependents'].value_counts(dropna = False)"
   ]
  },
  {
   "cell_type": "code",
   "execution_count": 10,
   "metadata": {},
   "outputs": [
    {
     "data": {
      "text/plain": [
       "count    1.532910e+07\n",
       "mean     4.946328e+01\n",
       "std      1.847878e+01\n",
       "min      1.800000e+01\n",
       "25%      3.300000e+01\n",
       "50%      4.900000e+01\n",
       "75%      6.500000e+01\n",
       "max      8.100000e+01\n",
       "Name: Age, dtype: float64"
      ]
     },
     "execution_count": 10,
     "metadata": {},
     "output_type": "execute_result"
    }
   ],
   "source": [
    "# Print descriptive stastics of age column\n",
    "active_customer['Age'].describe()"
   ]
  },
  {
   "cell_type": "markdown",
   "metadata": {},
   "source": [
    "#### 3.1 Create Demographic Profile - age, family status and number of dependents"
   ]
  },
  {
   "cell_type": "code",
   "execution_count": 12,
   "metadata": {},
   "outputs": [],
   "source": [
    "# Use loc() function to create customer profile flag based on age, family status and number of dependents - 'Young Individual without Kids'\n",
    "active_customer.loc[(active_customer['Age'] < 35) & (active_customer['fam_status'] == 'single') & (active_customer['no_of_dependents'] == 0), 'customer_profile'] = 'Young Individual without Kids'"
   ]
  },
  {
   "cell_type": "code",
   "execution_count": 13,
   "metadata": {},
   "outputs": [],
   "source": [
    "active_customer.loc[(active_customer['Age'] < 35) & (active_customer['fam_status'] == 'divorced/widowed') & (active_customer['no_of_dependents'] == 0), 'customer_profile'] = 'Young Individual without Kids'"
   ]
  },
  {
   "cell_type": "code",
   "execution_count": 14,
   "metadata": {},
   "outputs": [],
   "source": [
    "active_customer.loc[(active_customer['Age'] < 35) & (active_customer['fam_status'] == 'living with parents and siblings') & (active_customer['no_of_dependents'] == 0), 'customer_profile'] = 'Young Individual without Kids'"
   ]
  },
  {
   "cell_type": "code",
   "execution_count": 15,
   "metadata": {},
   "outputs": [],
   "source": [
    "# Use loc() function to create customer profile flag based on age, family status and number of dependents - 'Young Individual with Kids'\n",
    "active_customer.loc[(active_customer['Age'] < 35) & (active_customer['fam_status'] == 'single') & (active_customer['no_of_dependents'] > 0), 'customer_profile'] = 'Young Individual with Kids'"
   ]
  },
  {
   "cell_type": "code",
   "execution_count": 16,
   "metadata": {},
   "outputs": [],
   "source": [
    "active_customer.loc[(active_customer['Age'] < 35) & (active_customer['fam_status'] == 'divorced/widowed') & (active_customer['no_of_dependents'] > 0), 'customer_profile'] = 'Young Individual with Kids'"
   ]
  },
  {
   "cell_type": "code",
   "execution_count": 17,
   "metadata": {},
   "outputs": [],
   "source": [
    "active_customer.loc[(active_customer['Age'] < 35) & (active_customer['fam_status'] == 'living with parents and siblings') & (active_customer['no_of_dependents'] > 0), 'customer_profile'] = 'Young Individual with Kids'"
   ]
  },
  {
   "cell_type": "code",
   "execution_count": 18,
   "metadata": {},
   "outputs": [],
   "source": [
    "# Use loc() function to create customer profile flag based on age, family status and number of dependents - 'Young Married without Kids'\n",
    "active_customer.loc[(active_customer['Age'] < 35) & (active_customer['fam_status'] == 'married') & (active_customer['no_of_dependents'] == 0), 'customer_profile'] = 'Young Married without Kids'"
   ]
  },
  {
   "cell_type": "code",
   "execution_count": 19,
   "metadata": {},
   "outputs": [],
   "source": [
    "# Use loc() function to create customer profile flag based on age, family status and number of dependents - 'Young Married with Kids'\n",
    "active_customer.loc[(active_customer['Age'] < 35) & (active_customer['fam_status'] == 'married') & (active_customer['no_of_dependents'] > 0), 'customer_profile'] = 'Young Married with Kids'"
   ]
  },
  {
   "cell_type": "code",
   "execution_count": 20,
   "metadata": {},
   "outputs": [],
   "source": [
    "# Use loc() function to create customer profile flag based on age, family status and number of dependents - 'Middle Aged Individual without Kids'\n",
    "active_customer.loc[(active_customer['Age'] >= 35) & (active_customer['Age'] < 60) & (active_customer['fam_status'] == 'single') & (active_customer['no_of_dependents'] == 0), 'customer_profile'] = 'Middle Aged Individual without Kids'"
   ]
  },
  {
   "cell_type": "code",
   "execution_count": 21,
   "metadata": {},
   "outputs": [],
   "source": [
    "active_customer.loc[(active_customer['Age'] >= 35) & (active_customer['Age'] < 60) & (active_customer['fam_status'] == 'divorced/widowed') & (active_customer['no_of_dependents'] == 0), 'customer_profile'] = 'Middle Aged Individual without Kids'"
   ]
  },
  {
   "cell_type": "code",
   "execution_count": 22,
   "metadata": {},
   "outputs": [],
   "source": [
    "active_customer.loc[(active_customer['Age'] >= 35) & (active_customer['Age'] < 60) & (active_customer['fam_status'] == 'living with parents and siblings') & (active_customer['no_of_dependents'] == 0), 'customer_profile'] = 'Middle Aged Individual without Kids'"
   ]
  },
  {
   "cell_type": "code",
   "execution_count": 23,
   "metadata": {},
   "outputs": [],
   "source": [
    "# Use loc() function to create customer profile flag based on age, family status and number of dependents - 'Middle Aged Individual with Kids'\n",
    "active_customer.loc[(active_customer['Age'] >= 35) & (active_customer['Age'] < 60) & (active_customer['fam_status'] == 'single') & (active_customer['no_of_dependents'] > 0), 'customer_profile'] = 'Middle Aged Individual with Kids'"
   ]
  },
  {
   "cell_type": "code",
   "execution_count": 24,
   "metadata": {},
   "outputs": [],
   "source": [
    "active_customer.loc[(active_customer['Age'] >= 35) & (active_customer['Age'] < 60) & (active_customer['fam_status'] == 'divorced/widowed') & (active_customer['no_of_dependents'] > 0), 'customer_profile'] = 'Middle Aged Individual with Kids'"
   ]
  },
  {
   "cell_type": "code",
   "execution_count": 25,
   "metadata": {},
   "outputs": [],
   "source": [
    "active_customer.loc[(active_customer['Age'] >= 35) & (active_customer['Age'] < 60) & (active_customer['fam_status'] == 'living with parents and siblings') & (active_customer['no_of_dependents'] > 0), 'customer_profile'] = 'Middle Aged Individual with Kids'"
   ]
  },
  {
   "cell_type": "code",
   "execution_count": 26,
   "metadata": {},
   "outputs": [],
   "source": [
    "# Use loc() function to create customer profile flag based on age, family status and number of dependents - 'Middle Aged Married without Kids'\n",
    "active_customer.loc[(active_customer['Age'] >= 35) & (active_customer['Age'] < 60) & (active_customer['fam_status'] == 'married') & (active_customer['no_of_dependents'] == 0), 'customer_profile'] = 'Middle Aged Married without Kids'"
   ]
  },
  {
   "cell_type": "code",
   "execution_count": 27,
   "metadata": {},
   "outputs": [],
   "source": [
    "# Use loc() function to create customer profile flag based on age, family status and number of dependents - 'Middle Aged Married with Kids'\n",
    "active_customer.loc[(active_customer['Age'] >= 35) & (active_customer['Age'] < 60) & (active_customer['fam_status'] == 'married') & (active_customer['no_of_dependents'] > 0), 'customer_profile'] = 'Middle Aged Married with Kids'"
   ]
  },
  {
   "cell_type": "code",
   "execution_count": 28,
   "metadata": {},
   "outputs": [],
   "source": [
    "# Use loc() function to create customer profile flag based on age, family status and number of dependents - 'Older Individual without Kids'\n",
    "active_customer.loc[(active_customer['Age'] >= 60) & (active_customer['fam_status'] == 'single') & (active_customer['no_of_dependents'] == 0), 'customer_profile'] = 'Older Individual without Kids'"
   ]
  },
  {
   "cell_type": "code",
   "execution_count": 29,
   "metadata": {},
   "outputs": [],
   "source": [
    "active_customer.loc[(active_customer['Age'] >= 60) & (active_customer['fam_status'] == 'divorced/widowed') & (active_customer['no_of_dependents'] == 0), 'customer_profile'] = 'Older Individual without Kids'"
   ]
  },
  {
   "cell_type": "code",
   "execution_count": 30,
   "metadata": {},
   "outputs": [],
   "source": [
    "active_customer.loc[(active_customer['Age'] >= 60) & (active_customer['fam_status'] == 'living with parents and siblings') & (active_customer['no_of_dependents'] == 0), 'customer_profile'] = 'Older Individual without Kids'"
   ]
  },
  {
   "cell_type": "code",
   "execution_count": 31,
   "metadata": {},
   "outputs": [],
   "source": [
    "# Use loc() function to create customer profile flag based on age, family status and number of dependents - 'Older Individual with Kids'\n",
    "active_customer.loc[(active_customer['Age'] >= 60) & (active_customer['fam_status'] == 'single') & (active_customer['no_of_dependents'] > 0), 'customer_profile'] = 'Older Individual with Kids'"
   ]
  },
  {
   "cell_type": "code",
   "execution_count": 32,
   "metadata": {},
   "outputs": [],
   "source": [
    "active_customer.loc[(active_customer['Age'] >= 60) & (active_customer['fam_status'] == 'divorced/widowed') & (active_customer['no_of_dependents'] > 0), 'customer_profile'] = 'Older Individual with Kids'"
   ]
  },
  {
   "cell_type": "code",
   "execution_count": 33,
   "metadata": {},
   "outputs": [],
   "source": [
    "active_customer.loc[(active_customer['Age'] >= 60) & (active_customer['fam_status'] == 'living with parents and siblings') & (active_customer['no_of_dependents'] > 0), 'customer_profile'] = 'Older Individual with Kids'"
   ]
  },
  {
   "cell_type": "code",
   "execution_count": 34,
   "metadata": {},
   "outputs": [],
   "source": [
    "# Use loc() function to create customer profile flag based on age, family status and number of dependents - 'Older Married without Kids'\n",
    "active_customer.loc[(active_customer['Age'] >= 60) & (active_customer['fam_status'] == 'married') & (active_customer['no_of_dependents'] == 0), 'customer_profile'] = 'Older Married without Kids'"
   ]
  },
  {
   "cell_type": "code",
   "execution_count": 35,
   "metadata": {},
   "outputs": [],
   "source": [
    "# Use loc() function to create customer profile flag based on age, family status and number of dependents - 'Older Married with Kids'\n",
    "active_customer.loc[(active_customer['Age'] >= 60) & (active_customer['fam_status'] == 'married') & (active_customer['no_of_dependents'] > 0), 'customer_profile'] = 'Older Married with Kids'"
   ]
  },
  {
   "cell_type": "code",
   "execution_count": 36,
   "metadata": {},
   "outputs": [
    {
     "data": {
      "text/plain": [
       "Middle Aged Married with Kids          4510509\n",
       "Older Married with Kids                3922453\n",
       "Young Married with Kids                2329748\n",
       "Middle Aged Individual without Kids    1504730\n",
       "Older Individual without Kids          1309891\n",
       "Young Individual without Kids          1022205\n",
       "Young Individual with Kids              729565\n",
       "Name: customer_profile, dtype: int64"
      ]
     },
     "execution_count": 36,
     "metadata": {},
     "output_type": "execute_result"
    }
   ],
   "source": [
    "# Frequency check of 'customer_profile'\n",
    "active_customer['customer_profile'].value_counts(dropna = False)"
   ]
  },
  {
   "cell_type": "markdown",
   "metadata": {},
   "source": [
    "#### 3.2 Create Diet/Purchasing Profile - based on 'department_id'"
   ]
  },
  {
   "cell_type": "code",
   "execution_count": 38,
   "metadata": {},
   "outputs": [],
   "source": [
    "# Create loop to create new object 'result' based on department id's\n",
    "\n",
    "result = []\n",
    "\n",
    "for value in active_customer['department_id']:\n",
    "    if value == 12:\n",
    "        result.append('Meat Eater')\n",
    "    elif value == 8:\n",
    "        result.append('Pet Owner')\n",
    "    elif value == 5:\n",
    "        result.append('Alcohol Drinker')\n",
    "    elif value == 18:\n",
    "        result.append('Young Child/Children')\n",
    "    elif value == 10:\n",
    "        result.append('Purchases in Volume')\n",
    "    else:\n",
    "        result.append('No Profile')"
   ]
  },
  {
   "cell_type": "code",
   "execution_count": 39,
   "metadata": {},
   "outputs": [],
   "source": [
    "# Assign result to new column\n",
    "active_customer['Purchasing Profile'] = result"
   ]
  },
  {
   "cell_type": "code",
   "execution_count": 40,
   "metadata": {},
   "outputs": [
    {
     "data": {
      "text/plain": [
       "No Profile              14956516\n",
       "Meat Eater                287460\n",
       "Alcohol Drinker            41620\n",
       "Young Child/Children       37621\n",
       "Pet Owner                   5884\n",
       "Name: Purchasing Profile, dtype: int64"
      ]
     },
     "execution_count": 40,
     "metadata": {},
     "output_type": "execute_result"
    }
   ],
   "source": [
    "# Frequency check new column\n",
    "active_customer['Purchasing Profile'].value_counts(dropna = False)"
   ]
  },
  {
   "cell_type": "markdown",
   "metadata": {},
   "source": [
    "#### 3.3 Create Income Profile - based on 'income'"
   ]
  },
  {
   "cell_type": "code",
   "execution_count": 41,
   "metadata": {},
   "outputs": [
    {
     "data": {
      "text/plain": [
       "count    1.532910e+07\n",
       "mean     9.988454e+04\n",
       "std      4.166126e+04\n",
       "min      2.590300e+04\n",
       "25%      6.821000e+04\n",
       "50%      9.714100e+04\n",
       "75%      1.281770e+05\n",
       "max      5.939010e+05\n",
       "Name: income, dtype: float64"
      ]
     },
     "execution_count": 41,
     "metadata": {},
     "output_type": "execute_result"
    }
   ],
   "source": [
    "# Check descriptive statistics of 'income'\n",
    "active_customer['income'].describe()"
   ]
  },
  {
   "cell_type": "code",
   "execution_count": 42,
   "metadata": {},
   "outputs": [],
   "source": [
    "# Use loc() function to create 'income profile', users to be classified as lower income, regular income and higher income\n",
    "active_customer.loc[active_customer['income'] <= 68000, 'income_profile'] = 'Lower income'"
   ]
  },
  {
   "cell_type": "code",
   "execution_count": 43,
   "metadata": {},
   "outputs": [],
   "source": [
    "active_customer.loc[(active_customer['income'] > 68000) & (active_customer['income'] <= 128000), 'income_profile '] = 'Regular income'"
   ]
  },
  {
   "cell_type": "code",
   "execution_count": 44,
   "metadata": {},
   "outputs": [],
   "source": [
    "active_customer.loc[active_customer['income'] > 128000, 'income_profile'] = 'Higher income'"
   ]
  },
  {
   "cell_type": "code",
   "execution_count": 45,
   "metadata": {},
   "outputs": [
    {
     "data": {
      "text/plain": [
       "NaN              7676860\n",
       "Higher income    3847580\n",
       "Lower income     3804661\n",
       "Name: income_profile, dtype: int64"
      ]
     },
     "execution_count": 45,
     "metadata": {},
     "output_type": "execute_result"
    }
   ],
   "source": [
    "# Frequency check new column\n",
    "active_customer['income_profile'].value_counts(dropna = False)"
   ]
  },
  {
   "cell_type": "code",
   "execution_count": 46,
   "metadata": {},
   "outputs": [],
   "source": [
    "# Correct typo code for 'Regular Income'\n",
    "active_customer.loc[(active_customer['income'] > 68000) & (active_customer['income'] <= 128000), 'income_profile'] = 'Regular income'"
   ]
  },
  {
   "cell_type": "code",
   "execution_count": 47,
   "metadata": {},
   "outputs": [
    {
     "data": {
      "text/plain": [
       "Regular income    7676860\n",
       "Higher income     3847580\n",
       "Lower income      3804661\n",
       "Name: income_profile, dtype: int64"
      ]
     },
     "execution_count": 47,
     "metadata": {},
     "output_type": "execute_result"
    }
   ],
   "source": [
    "# Frequency check new column\n",
    "active_customer['income_profile'].value_counts(dropna = False)"
   ]
  },
  {
   "cell_type": "code",
   "execution_count": 48,
   "metadata": {},
   "outputs": [
    {
     "data": {
      "text/plain": [
       "Index(['order_id', 'user_id', 'order_number', 'orders_day_of_week',\n",
       "       'hour_order_placed', 'days_since_prior_order', 'product_id',\n",
       "       'add_to_cart_order', 'reordered', 'product_name', 'aisle_id',\n",
       "       'department_id', 'prices', 'busiest_days', 'busiest_period_of_day',\n",
       "       'max_order', 'loyalty_flag', 'mean_product_price', 'spending_flag',\n",
       "       'median_days_since_prior_order', 'frequency_flag', 'Gender', 'State',\n",
       "       'Age', 'date_joined', 'no_of_dependents', 'fam_status', 'income',\n",
       "       'Region', 'low_activity_flag', 'customer_profile', 'Purchasing Profile',\n",
       "       'income_profile', 'income_profile '],\n",
       "      dtype='object')"
      ]
     },
     "execution_count": 48,
     "metadata": {},
     "output_type": "execute_result"
    }
   ],
   "source": [
    "# Check columns\n",
    "active_customer.columns"
   ]
  },
  {
   "cell_type": "code",
   "execution_count": 49,
   "metadata": {},
   "outputs": [],
   "source": [
    "# drop 'income_profile ' column created in error\n",
    "active_customer = active_customer.drop(columns = 'income_profile ')"
   ]
  },
  {
   "cell_type": "code",
   "execution_count": 51,
   "metadata": {},
   "outputs": [
    {
     "data": {
      "text/plain": [
       "order_id                           int64\n",
       "user_id                            int64\n",
       "order_number                       int64\n",
       "orders_day_of_week                 int64\n",
       "hour_order_placed                  int64\n",
       "days_since_prior_order           float64\n",
       "product_id                         int64\n",
       "add_to_cart_order                float64\n",
       "reordered                          int64\n",
       "product_name                      object\n",
       "aisle_id                           int64\n",
       "department_id                      int64\n",
       "prices                           float64\n",
       "busiest_days                      object\n",
       "busiest_period_of_day             object\n",
       "max_order                          int64\n",
       "loyalty_flag                      object\n",
       "mean_product_price               float64\n",
       "spending_flag                     object\n",
       "median_days_since_prior_order    float64\n",
       "frequency_flag                    object\n",
       "Gender                            object\n",
       "State                             object\n",
       "Age                                int64\n",
       "date_joined                       object\n",
       "no_of_dependents                   int64\n",
       "fam_status                        object\n",
       "income                             int64\n",
       "Region                            object\n",
       "low_activity_flag                 object\n",
       "customer_profile                  object\n",
       "Purchasing Profile                object\n",
       "income_profile                    object\n",
       "dtype: object"
      ]
     },
     "execution_count": 51,
     "metadata": {},
     "output_type": "execute_result"
    }
   ],
   "source": [
    "# Check data types of df\n",
    "active_customer.dtypes"
   ]
  },
  {
   "cell_type": "markdown",
   "metadata": {},
   "source": [
    "# 4. Optimise Data Types"
   ]
  },
  {
   "cell_type": "code",
   "execution_count": 52,
   "metadata": {},
   "outputs": [],
   "source": [
    "# Change data type of hour_order_placed column to int8\n",
    "active_customer['hour_order_placed'] = active_customer['hour_order_placed'].astype('int8')"
   ]
  },
  {
   "cell_type": "code",
   "execution_count": 53,
   "metadata": {},
   "outputs": [],
   "source": [
    "# Change data type of days_since_prior_order column to float16\n",
    "active_customer['days_since_prior_order'] = active_customer['days_since_prior_order'].astype('float16')"
   ]
  },
  {
   "cell_type": "code",
   "execution_count": 54,
   "metadata": {},
   "outputs": [],
   "source": [
    "# Change data type of days_since_prior_order column to uint16\n",
    "active_customer['product_id'] = active_customer['product_id'].astype('uint16')"
   ]
  },
  {
   "cell_type": "code",
   "execution_count": 55,
   "metadata": {},
   "outputs": [],
   "source": [
    "# Change data type of add_to_cart_order column to float16\n",
    "active_customer['add_to_cart_order'] = active_customer['add_to_cart_order'].astype('float16')"
   ]
  },
  {
   "cell_type": "code",
   "execution_count": 56,
   "metadata": {},
   "outputs": [],
   "source": [
    "# Change data type of reordered column to int8\n",
    "active_customer['reordered'] = active_customer['reordered'].astype('int8')"
   ]
  },
  {
   "cell_type": "code",
   "execution_count": 57,
   "metadata": {},
   "outputs": [],
   "source": [
    "# Change data type of aisle_id column to int8\n",
    "active_customer['aisle_id'] = active_customer['aisle_id'].astype('int8')"
   ]
  },
  {
   "cell_type": "code",
   "execution_count": 58,
   "metadata": {},
   "outputs": [],
   "source": [
    "# Change data type of days_since_prior_order column to int8\n",
    "active_customer['department_id'] = active_customer['department_id'].astype('int8')"
   ]
  },
  {
   "cell_type": "code",
   "execution_count": 59,
   "metadata": {},
   "outputs": [],
   "source": [
    "# Change data type of prices column to float16\n",
    "active_customer['prices'] = active_customer['prices'].astype('float16')"
   ]
  },
  {
   "cell_type": "code",
   "execution_count": 60,
   "metadata": {},
   "outputs": [],
   "source": [
    "# Change data type of max_order column to uint8\n",
    "active_customer['max_order'] = active_customer['max_order'].astype('uint8')"
   ]
  },
  {
   "cell_type": "code",
   "execution_count": 61,
   "metadata": {},
   "outputs": [],
   "source": [
    "# Change data type of mean_product_price column to float16\n",
    "active_customer['mean_product_price'] = active_customer['mean_product_price'].astype('float16')"
   ]
  },
  {
   "cell_type": "code",
   "execution_count": 62,
   "metadata": {},
   "outputs": [],
   "source": [
    "# Change data type of median_days_since_prior_order column to float16\n",
    "active_customer['median_days_since_prior_order'] = active_customer['median_days_since_prior_order'].astype('float16')"
   ]
  },
  {
   "cell_type": "code",
   "execution_count": 64,
   "metadata": {},
   "outputs": [],
   "source": [
    "# Change data type of orders_day_of_week column to int8\n",
    "active_customer['orders_day_of_week'] = active_customer['orders_day_of_week'].astype('int8')"
   ]
  },
  {
   "cell_type": "markdown",
   "metadata": {},
   "source": [
    "# 5. Export Data"
   ]
  },
  {
   "cell_type": "code",
   "execution_count": 65,
   "metadata": {},
   "outputs": [],
   "source": [
    "active_customer.to_csv(os.path.join(path,'02 Data','Prepared Data','active_customer_profiles.csv'))"
   ]
  },
  {
   "cell_type": "code",
   "execution_count": null,
   "metadata": {},
   "outputs": [],
   "source": []
  }
 ],
 "metadata": {
  "kernelspec": {
   "display_name": "Python 3",
   "language": "python",
   "name": "python3"
  },
  "language_info": {
   "codemirror_mode": {
    "name": "ipython",
    "version": 3
   },
   "file_extension": ".py",
   "mimetype": "text/x-python",
   "name": "python",
   "nbconvert_exporter": "python",
   "pygments_lexer": "ipython3",
   "version": "3.8.5"
  }
 },
 "nbformat": 4,
 "nbformat_minor": 4
}
